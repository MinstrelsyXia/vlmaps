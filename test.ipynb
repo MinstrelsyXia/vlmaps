{
 "cells": [
  {
   "cell_type": "code",
   "execution_count": 13,
   "metadata": {},
   "outputs": [
    {
     "name": "stdout",
     "output_type": "stream",
     "text": [
      "[[ 1 -2 -3  5  6  7  4]\n",
      " [ 1 -2 -3  5  6  7  4]]\n"
     ]
    }
   ],
   "source": [
    "import numpy as np\n",
    "\n",
    "def issac2vlmap(camera_pose):\n",
    "    '''\n",
    "    Isaacsim: x right, y up, z back; w x y z\n",
    "    vlmap: x right y down z forward; x y z w\n",
    "    For original input from Isaacsim, we need to convert it to vlmap format\n",
    "    Input : [N,7]\n",
    "    Output: [N,7]\n",
    "    '''\n",
    "    # Use direct indexing instead of np.stack for better performance\n",
    "    position = camera_pose[:, :3]\n",
    "    orientation = camera_pose[:, 3:]\n",
    "    \n",
    "    # Apply the transformations directly\n",
    "    vlmap_pos = position * np.array([1, -1, -1])\n",
    "    vlmap_ori = orientation[:, [1, 2, 3, 0]]\n",
    "\n",
    "    # Concatenate the position and orientation to form the output\n",
    "    return np.hstack((vlmap_pos, vlmap_ori))\n",
    "\n",
    "camera_pose=np.array([[1,2,3,4,5,6,7],[1,2,3,4,5,6,7]])\n",
    "print(issac2vlmap(camera_pose))\n"
   ]
  }
 ],
 "metadata": {
  "kernelspec": {
   "display_name": "vlmaps",
   "language": "python",
   "name": "python3"
  },
  "language_info": {
   "codemirror_mode": {
    "name": "ipython",
    "version": 3
   },
   "file_extension": ".py",
   "mimetype": "text/x-python",
   "name": "python",
   "nbconvert_exporter": "python",
   "pygments_lexer": "ipython3",
   "version": "3.8.19"
  }
 },
 "nbformat": 4,
 "nbformat_minor": 2
}
